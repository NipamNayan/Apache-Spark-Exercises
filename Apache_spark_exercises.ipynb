{
 "cells": [
  {
   "cell_type": "markdown",
   "metadata": {},
   "source": [
    "### Distributed Data Analytics Lab 9"
   ]
  },
  {
   "cell_type": "code",
   "execution_count": 1,
   "metadata": {},
   "outputs": [],
   "source": [
    "import findspark\n",
    "findspark.init()"
   ]
  },
  {
   "cell_type": "code",
   "execution_count": 2,
   "metadata": {},
   "outputs": [
    {
     "data": {
      "text/plain": [
       "'C:\\\\spark'"
      ]
     },
     "execution_count": 2,
     "metadata": {},
     "output_type": "execute_result"
    }
   ],
   "source": [
    "findspark.find()\n",
    "import pyspark\n",
    "findspark.find()"
   ]
  },
  {
   "cell_type": "code",
   "execution_count": 3,
   "metadata": {},
   "outputs": [],
   "source": [
    "from pyspark import SparkContext , SparkConf\n",
    "sc = SparkContext()\n",
    "# sqlContext = SQLContext(sc)"
   ]
  },
  {
   "cell_type": "code",
   "execution_count": 4,
   "metadata": {},
   "outputs": [],
   "source": [
    "from pyspark.sql import SQLContext\n",
    "sqlContext = SQLContext(sc)"
   ]
  },
  {
   "cell_type": "markdown",
   "metadata": {},
   "source": [
    "### Exercise 1: Apache Spark - Basics\n",
    "### Exercise 1A: Basic Resilient Distributed Dataset"
   ]
  },
  {
   "cell_type": "code",
   "execution_count": 5,
   "metadata": {},
   "outputs": [],
   "source": [
    "a = [\"spark\", \"rdd\", \"python\", \"context\", \"create\", \"class\"]\n",
    "b = [\"operation\", \"apache\", \"scala\", \"lambda\",\"parallel\",\"partition\"]"
   ]
  },
  {
   "cell_type": "code",
   "execution_count": 6,
   "metadata": {},
   "outputs": [],
   "source": [
    "# sc"
   ]
  },
  {
   "cell_type": "code",
   "execution_count": 20,
   "metadata": {},
   "outputs": [],
   "source": [
    "rdd_a = sc.parallelize(a)\n",
    "rdd_b = sc.parallelize(b)"
   ]
  },
  {
   "cell_type": "code",
   "execution_count": 18,
   "metadata": {},
   "outputs": [],
   "source": [
    "rdd_a1 = rdd_a.map(lambda x: (x,1))\n",
    "rdd_b1 = rdd_b.map(lambda x: (x,1))"
   ]
  },
  {
   "cell_type": "markdown",
   "metadata": {},
   "source": [
    "#### 1A.1 Perform rightOuterJoin and fullOuterJoin operations"
   ]
  },
  {
   "cell_type": "code",
   "execution_count": 19,
   "metadata": {},
   "outputs": [
    {
     "data": {
      "text/plain": [
       "['scala', 'parallel', 'operation', 'apache', 'partition', 'lambda']"
      ]
     },
     "execution_count": 19,
     "metadata": {},
     "output_type": "execute_result"
    }
   ],
   "source": [
    "x1 = (rdd_a1\n",
    "     .rightOuterJoin(rdd_b1)\n",
    "     .map(lambda x: x[0])\n",
    "    )\n",
    "x1.take(10)"
   ]
  },
  {
   "cell_type": "code",
   "execution_count": 10,
   "metadata": {},
   "outputs": [
    {
     "data": {
      "text/plain": [
       "['python',\n",
       " 'spark',\n",
       " 'context',\n",
       " 'create',\n",
       " 'scala',\n",
       " 'parallel',\n",
       " 'operation',\n",
       " 'apache',\n",
       " 'partition',\n",
       " 'lambda']"
      ]
     },
     "execution_count": 10,
     "metadata": {},
     "output_type": "execute_result"
    }
   ],
   "source": [
    "x2 = (rdd_a1\n",
    "     .fullOuterJoin(rdd_b1)\n",
    "     .map(lambda x: x[0])\n",
    "    )\n",
    "x2.take(10)"
   ]
  },
  {
   "cell_type": "markdown",
   "metadata": {
    "collapsed": true
   },
   "source": [
    "#### 1A.2 Using map and reduce functions to count how many times the character \"s\" appears in all a and b"
   ]
  },
  {
   "cell_type": "code",
   "execution_count": 11,
   "metadata": {},
   "outputs": [
    {
     "data": {
      "text/plain": [
       "[('s', 3)]"
      ]
     },
     "execution_count": 11,
     "metadata": {},
     "output_type": "execute_result"
    }
   ],
   "source": [
    "(rdd_a1\n",
    " .flatMap(lambda x: list(x[0]))\n",
    " .map(lambda x: (x,1))\n",
    " .reduceByKey(lambda x, y: x + y)\n",
    " .filter(lambda x: x[0]==\"s\")\n",
    " .collect())"
   ]
  },
  {
   "cell_type": "code",
   "execution_count": 12,
   "metadata": {},
   "outputs": [
    {
     "data": {
      "text/plain": [
       "[('s', 1)]"
      ]
     },
     "execution_count": 12,
     "metadata": {},
     "output_type": "execute_result"
    }
   ],
   "source": [
    "(rdd_b1\n",
    " .flatMap(lambda x: list(x[0]))\n",
    " .map(lambda x: (x,1))\n",
    " .reduceByKey(lambda x, y: x + y)\n",
    " .filter(lambda x: x[0]==\"s\")\n",
    " .collect()\n",
    ")"
   ]
  },
  {
   "cell_type": "code",
   "execution_count": 13,
   "metadata": {},
   "outputs": [
    {
     "data": {
      "text/plain": [
       "[('s', 4)]"
      ]
     },
     "execution_count": 13,
     "metadata": {},
     "output_type": "execute_result"
    }
   ],
   "source": [
    "(rdd_a1\n",
    " .union(rdd_b1)\n",
    " .map(lambda x: x[0])\n",
    " .flatMap(lambda x: list(x))\n",
    " .map(lambda x: (x,1))\n",
    " .filter(lambda x: x[0]=='s')\n",
    " .reduceByKey(lambda x, y: x + y)\n",
    " .collect()\n",
    "#  .take(2)\n",
    ")"
   ]
  },
  {
   "cell_type": "markdown",
   "metadata": {
    "collapsed": true
   },
   "source": [
    "#### 1A.3 Using aggregate function to count how many times the character \"s\" appears in all a and b"
   ]
  },
  {
   "cell_type": "code",
   "execution_count": 14,
   "metadata": {},
   "outputs": [
    {
     "data": {
      "text/plain": [
       "[('s', 3.0)]"
      ]
     },
     "execution_count": 14,
     "metadata": {},
     "output_type": "execute_result"
    }
   ],
   "source": [
    "(rdd_a1\n",
    " .flatMap(lambda x: list(x[0]))\n",
    " .map(lambda x: (x,1))\n",
    " .filter(lambda x: x[0]=='s')\n",
    " .aggregateByKey((0.0),\n",
    "                (lambda x,y: (x+y)),\n",
    "                (lambda rdd1,rdd2:(rdd1+rdd2)))\n",
    " .collect()\n",
    ")"
   ]
  },
  {
   "cell_type": "code",
   "execution_count": 15,
   "metadata": {},
   "outputs": [
    {
     "data": {
      "text/plain": [
       "[('s', 1.0)]"
      ]
     },
     "execution_count": 15,
     "metadata": {},
     "output_type": "execute_result"
    }
   ],
   "source": [
    "(rdd_b1\n",
    " .flatMap(lambda x: list(x[0]))\n",
    " .map(lambda x: (x,1))\n",
    " .filter(lambda x: x[0]=='s')\n",
    " .aggregateByKey((0.0),\n",
    "                (lambda x,y: (x+y)),\n",
    "                (lambda rdd1,rdd2:(rdd1+rdd2)))\n",
    " .collect()\n",
    ")"
   ]
  },
  {
   "cell_type": "code",
   "execution_count": 16,
   "metadata": {},
   "outputs": [
    {
     "data": {
      "text/plain": [
       "[('s', 4.0)]"
      ]
     },
     "execution_count": 16,
     "metadata": {},
     "output_type": "execute_result"
    }
   ],
   "source": [
    "(rdd_a1\n",
    " .union(rdd_b1)\n",
    " .map(lambda x: x[0])\n",
    " .flatMap(lambda x: list(x))\n",
    " .map(lambda x: (x,1))\n",
    " .filter(lambda x: x[0]=='s')\n",
    " .aggregateByKey((0.0),\n",
    "                (lambda x,y: (x+y)),\n",
    "                (lambda rdd1,rdd2:(rdd1+rdd2)))\n",
    " .collect()\n",
    ")"
   ]
  },
  {
   "cell_type": "markdown",
   "metadata": {
    "collapsed": true
   },
   "source": [
    "### Exercise 1B: Dataframes"
   ]
  },
  {
   "cell_type": "code",
   "execution_count": 24,
   "metadata": {},
   "outputs": [],
   "source": [
    "from pyspark.sql.functions import mean, to_timestamp, unix_timestamp, when, col, to_date, datediff, lit, round, stddev\n",
    "from pyspark.sql import SparkSession\n",
    "import datetime\n",
    "from matplotlib import pyplot as plt"
   ]
  },
  {
   "cell_type": "code",
   "execution_count": 25,
   "metadata": {},
   "outputs": [],
   "source": [
    "spark = SparkSession \\\n",
    "    .builder \\\n",
    "    .appName(\"Python Spark\") \\\n",
    "    .getOrCreate()\n"
   ]
  },
  {
   "cell_type": "code",
   "execution_count": 26,
   "metadata": {},
   "outputs": [],
   "source": [
    "df = spark.read.json('spark/students.json')"
   ]
  },
  {
   "cell_type": "code",
   "execution_count": 27,
   "metadata": {},
   "outputs": [
    {
     "name": "stdout",
     "output_type": "stream",
     "text": [
      "The json dataset:  \n",
      "\n",
      "+------------------+------------------+----------+---------+------+----+\n",
      "|            course|               dob|first_name|last_name|points|s_id|\n",
      "+------------------+------------------+----------+---------+------+----+\n",
      "|Humanities and Art|  October 14, 1983|      Alan|      Joe|    10|   1|\n",
      "|  Computer Science|September 26, 1980|    Martin|  Genberg|    17|   2|\n",
      "|    Graphic Design|     June 12, 1982|     Athur|   Watson|    16|   3|\n",
      "|    Graphic Design|     April 5, 1987|  Anabelle|  Sanberg|    12|   4|\n",
      "|        Psychology|  November 1, 1978|      Kira| Schommer|    11|   5|\n",
      "|          Business|  17 February 1981| Christian|   Kiriam|    10|   6|\n",
      "|  Machine Learning|    1 January 1984|   Barbara|  Ballard|    14|   7|\n",
      "|     Deep Learning|  January 13, 1978|      John|     null|    10|   8|\n",
      "|  Machine Learning|  26 December 1989|    Marcus|   Carson|    15|   9|\n",
      "|           Physics|  30 December 1987|     Marta|   Brooks|    11|  10|\n",
      "|    Data Analytics|     June 12, 1975|     Holly| Schwartz|    12|  11|\n",
      "|  Computer Science|      July 2, 1985|     April|    Black|  null|  12|\n",
      "|  Computer Science|     July 22, 1980|     Irene|  Bradley|    13|  13|\n",
      "|        Psychology|   7 February 1986|      Mark|    Weber|    12|  14|\n",
      "|       Informatics|      May 18, 1987|     Rosie|   Norman|     9|  15|\n",
      "|          Business|   August 10, 1984|    Martin|   Steele|     7|  16|\n",
      "|  Machine Learning|  16 December 1990|     Colin| Martinez|     9|  17|\n",
      "|    Data Analytics|              null|   Bridget|    Twain|     6|  18|\n",
      "|          Business|      7 March 1980|   Darlene|    Mills|    19|  19|\n",
      "|    Data Analytics|      June 2, 1985|   Zachary|     null|    10|  20|\n",
      "+------------------+------------------+----------+---------+------+----+\n",
      "\n"
     ]
    }
   ],
   "source": [
    "print(\"The json dataset: \", \"\\n\")\n",
    "df.show(20)"
   ]
  },
  {
   "cell_type": "code",
   "execution_count": 28,
   "metadata": {},
   "outputs": [],
   "source": [
    "# 1. Replace the null value(s) in column points by the mean of all points.\n",
    "df = df.na.fill(df.agg(mean('points')).collect()[0][0])"
   ]
  },
  {
   "cell_type": "code",
   "execution_count": 29,
   "metadata": {},
   "outputs": [],
   "source": [
    "# 2. Replace the null value(s) in column dob and column last name by \"unknown\" and \"--\" respectively.\n",
    "df = df.na.fill('unknown', 'dob')\n",
    "df = df.na.fill('--', 'last_name')"
   ]
  },
  {
   "cell_type": "code",
   "execution_count": 30,
   "metadata": {},
   "outputs": [],
   "source": [
    "# 3. Convert all the dates into DD-MM-YYYY format.\n",
    "# https://stackoverflow.com/questions/39088473/pyspark-dataframe-convert-unusual-string-format-to-timestamp\n",
    "df2 = df.select('*', to_timestamp(df.dob, 'MMMMM dd, yyyy').alias('date'))\n",
    "df2 = df2.withColumn('date', when(col('date').isNull(), to_timestamp(df.dob, 'dd MMMMM yyyy')).otherwise(col('date')))\n",
    "df2 = df2.withColumn('dob', unix_timestamp(col(\"date\"), 'yyyy-MM-dd HH:mm:ss').cast(\"timestamp\"))\n",
    "df2 = df2.withColumn('dob', to_date('dob', 'dd-MM-yyyy'))\n",
    "df2 = df2.drop('date')\n"
   ]
  },
  {
   "cell_type": "code",
   "execution_count": 31,
   "metadata": {},
   "outputs": [],
   "source": [
    "# 4. Insert a new column age and calculate the current age of all students.\n",
    "# https://stackoverflow.com/questions/44020818/how-to-calculate-date-difference-in-pyspark\n",
    "df2 = df2.select('*', round(datediff(lit(datetime.date.today()), col('dob')) / 365, 0).alias('age'))\n"
   ]
  },
  {
   "cell_type": "code",
   "execution_count": 32,
   "metadata": {},
   "outputs": [],
   "source": [
    "# 5. If point > 1 standard deviation of all points, then update current point to 20\n",
    "grades = df2.agg({'points': 'mean'}).collect()[0][0] + df2.agg({'points': 'stddev'}).collect()[0][0]\n",
    "df2 = df2.withColumn('points', when(col('points') > grades, 20).otherwise(col('points')))"
   ]
  },
  {
   "cell_type": "code",
   "execution_count": 35,
   "metadata": {},
   "outputs": [
    {
     "name": "stdout",
     "output_type": "stream",
     "text": [
      "Edited json dataset:  \n",
      "\n",
      "+------------------+----------+----------+---------+------+----+----+\n",
      "|            course|       dob|first_name|last_name|points|s_id| age|\n",
      "+------------------+----------+----------+---------+------+----+----+\n",
      "|Humanities and Art|1983-10-14|      Alan|      Joe|    10|   1|36.0|\n",
      "|  Computer Science|1980-09-26|    Martin|  Genberg|    20|   2|39.0|\n",
      "|    Graphic Design|1982-06-12|     Athur|   Watson|    20|   3|37.0|\n",
      "|    Graphic Design|1987-04-05|  Anabelle|  Sanberg|    12|   4|32.0|\n",
      "|        Psychology|1978-11-01|      Kira| Schommer|    11|   5|41.0|\n",
      "|          Business|1981-02-17| Christian|   Kiriam|    10|   6|38.0|\n",
      "|  Machine Learning|1984-01-01|   Barbara|  Ballard|    14|   7|36.0|\n",
      "|     Deep Learning|1978-01-13|      John|       --|    10|   8|41.0|\n",
      "|  Machine Learning|1989-12-26|    Marcus|   Carson|    20|   9|30.0|\n",
      "|           Physics|1987-12-30|     Marta|   Brooks|    11|  10|32.0|\n",
      "|    Data Analytics|1975-06-12|     Holly| Schwartz|    12|  11|44.0|\n",
      "|  Computer Science|1985-07-02|     April|    Black|    11|  12|34.0|\n",
      "|  Computer Science|1980-07-22|     Irene|  Bradley|    13|  13|39.0|\n",
      "|        Psychology|1986-02-07|      Mark|    Weber|    12|  14|33.0|\n",
      "|       Informatics|1987-05-18|     Rosie|   Norman|     9|  15|32.0|\n",
      "+------------------+----------+----------+---------+------+----+----+\n",
      "only showing top 15 rows\n",
      "\n"
     ]
    }
   ],
   "source": [
    "print(\"Edited json dataset: \", \"\\n\")\n",
    "df2.show(15)"
   ]
  },
  {
   "cell_type": "code",
   "execution_count": 36,
   "metadata": {},
   "outputs": [
    {
     "data": {
      "image/png": "[encoded data removed]",
      "text/plain": [
       "<Figure size 432x288 with 1 Axes>"
      ]
     },
     "metadata": {},
     "output_type": "display_data"
    }
   ],
   "source": [
    "# 6. Create a histogram on the new points created in the task 5.\n",
    "points_histogram = df2.select('points').rdd.map(lambda i: i.points).collect()\n",
    "plt.hist(points_histogram)\n",
    "plt.title('Points Histogram')\n",
    "plt.show()\n"
   ]
  },
  {
   "cell_type": "markdown",
   "metadata": {},
   "source": [
    "### Exercise 2: Apache Spark"
   ]
  },
  {
   "cell_type": "code",
   "execution_count": 37,
   "metadata": {},
   "outputs": [],
   "source": [
    "from pyspark import SparkContext\n",
    "from pyspark.sql import SQLContext\n",
    "from pyspark.sql import functions as F\n",
    "from pyspark.sql.window import Window"
   ]
  },
  {
   "cell_type": "code",
   "execution_count": 38,
   "metadata": {},
   "outputs": [],
   "source": [
    "tag_rdd = (sc\n",
    "           .textFile(\"spark/tags.dat\")\n",
    "           .map(lambda x: x.split('::'))\n",
    "           .map(lambda x: [int(x[0]), int(x[1]),x[2],int(x[3])])\n",
    "          )\n",
    "           "
   ]
  },
  {
   "cell_type": "code",
   "execution_count": 39,
   "metadata": {},
   "outputs": [
    {
     "data": {
      "text/plain": [
       "[[15, 4973, 'excellent!', 1215184630],\n",
       " [20, 1747, 'politics', 1188263867],\n",
       " [20, 1747, 'satire', 1188263867],\n",
       " [20, 2424, 'chick flick 212', 1188263835],\n",
       " [20, 2424, 'hanks', 1188263835]]"
      ]
     },
     "execution_count": 39,
     "metadata": {},
     "output_type": "execute_result"
    }
   ],
   "source": [
    "tag_rdd.take(5)"
   ]
  },
  {
   "cell_type": "code",
   "execution_count": 40,
   "metadata": {},
   "outputs": [
    {
     "data": {
      "text/plain": [
       "95580"
      ]
     },
     "execution_count": 40,
     "metadata": {},
     "output_type": "execute_result"
    }
   ],
   "source": [
    "tag_rdd.count()"
   ]
  },
  {
   "cell_type": "code",
   "execution_count": 41,
   "metadata": {},
   "outputs": [],
   "source": [
    "# sc = SparkContext(appName=\"PrevRowDiffApp\")\n",
    "sqlc = SQLContext(sc)\n",
    "tag_df = sqlc.createDataFrame(tag_rdd, [\"UserID\",\"MovieID\",\"Tag\",\"Timestamp\"])"
   ]
  },
  {
   "cell_type": "code",
   "execution_count": 42,
   "metadata": {},
   "outputs": [
    {
     "name": "stdout",
     "output_type": "stream",
     "text": [
      "+------+-------+--------------------+----------+\n",
      "|UserID|MovieID|                 Tag| Timestamp|\n",
      "+------+-------+--------------------+----------+\n",
      "|    15|   4973|          excellent!|1215184630|\n",
      "|    20|   1747|            politics|1188263867|\n",
      "|    20|   1747|              satire|1188263867|\n",
      "|    20|   2424|     chick flick 212|1188263835|\n",
      "|    20|   2424|               hanks|1188263835|\n",
      "|    20|   2424|                ryan|1188263835|\n",
      "|    20|   2947|              action|1188263755|\n",
      "|    20|   2947|                bond|1188263756|\n",
      "|    20|   3033|               spoof|1188263880|\n",
      "|    20|   3033|           star wars|1188263880|\n",
      "|    20|   7438|              bloody|1188263801|\n",
      "|    20|   7438|             kung fu|1188263801|\n",
      "|    20|   7438|           Tarantino|1188263801|\n",
      "|    21|  55247|                   R|1205081506|\n",
      "|    21|  55253|               NC-17|1205081488|\n",
      "|    25|     50|        Kevin Spacey|1166101426|\n",
      "|    25|   6709|         Johnny Depp|1162147221|\n",
      "|    31|     65|        buddy comedy|1188263759|\n",
      "|    31|    546|strangely compelling|1188263674|\n",
      "|    31|   1091|         catastrophe|1188263741|\n",
      "+------+-------+--------------------+----------+\n",
      "only showing top 20 rows\n",
      "\n"
     ]
    }
   ],
   "source": [
    "# tag_df.take(5)\n",
    "tag_df.show()"
   ]
  },
  {
   "cell_type": "code",
   "execution_count": 43,
   "metadata": {},
   "outputs": [
    {
     "name": "stdout",
     "output_type": "stream",
     "text": [
      "+------+-------+--------------------+----------+--------------+--------+\n",
      "|UserID|MovieID|                 Tag| Timestamp|prev_Timestamp|    diff|\n",
      "+------+-------+--------------------+----------+--------------+--------+\n",
      "|  1806|  43560|              comedy|1147983808|          null|       0|\n",
      "|  1806|  43560|                kids|1147983808|    1147983808|       0|\n",
      "|  1806|   7018|            language|1172157899|    1147983808|24174091|\n",
      "|  1806|   7152|              nudity|1176483953|    1172157899| 4326054|\n",
      "|  1806|   7152|                dark|1176483990|    1176483953|      37|\n",
      "|  1806|  44709|        heartwarming|1176485185|    1176483990|    1195|\n",
      "|  1806|  44199|intelligent thriller|1176485297|    1176485185|     112|\n",
      "|  1806|  43936|               tense|1176485376|    1176485297|      79|\n",
      "|  1806|  43928|              stupid|1176485429|    1176485376|      53|\n",
      "|  1806|  42734|              clever|1176485536|    1176485429|     107|\n",
      "|  1806|  40583|       confused plot|1176485722|    1176485536|     186|\n",
      "|  1806|  37475|                slow|1176485915|    1176485722|     193|\n",
      "|  1806|  36527|                slow|1176485965|    1176485915|      50|\n",
      "|  1806|  48043|          weak story|1184762689|    1176485965| 8276724|\n",
      "|  1806|  48043|           dreamlike|1184762699|    1184762689|      10|\n",
      "|  1806|  48043|       disappointing|1184762776|    1184762699|      77|\n",
      "|  1806|  51834|     chick flick 212|1203867534|    1184762776|19104758|\n",
      "|  1806|  55290|Very Strong Language|1204564122|    1203867534|  696588|\n",
      "|  2040|   1377|              action|1189086212|          null|       0|\n",
      "|  2040|   1377|              batman|1189086212|    1189086212|       0|\n",
      "+------+-------+--------------------+----------+--------------+--------+\n",
      "only showing top 20 rows\n",
      "\n"
     ]
    }
   ],
   "source": [
    "my_window = Window.partitionBy(\"UserID\").orderBy([\"UserID\",\"Timestamp\"])\n",
    "\n",
    "tag_df = tag_df.withColumn(\"prev_Timestamp\", F.lag(tag_df.Timestamp).over(my_window))\n",
    "tag_df = tag_df.withColumn(\"diff\", F.when(F.isnull(tag_df.Timestamp - tag_df.prev_Timestamp), 0)\n",
    "                              .otherwise(tag_df.Timestamp - tag_df.prev_Timestamp))\n",
    "\n",
    "tag_df.show()"
   ]
  },
  {
   "cell_type": "code",
   "execution_count": 44,
   "metadata": {},
   "outputs": [
    {
     "name": "stdout",
     "output_type": "stream",
     "text": [
      "+------+-------+--------------------+----------+--------------+--------+--------------+\n",
      "|UserID|MovieID|                 Tag| Timestamp|prev_Timestamp|    diff|threshold_flag|\n",
      "+------+-------+--------------------+----------+--------------+--------+--------------+\n",
      "|  1806|  43560|              comedy|1147983808|          null|       0|             0|\n",
      "|  1806|  43560|                kids|1147983808|    1147983808|       0|             0|\n",
      "|  1806|   7018|            language|1172157899|    1147983808|24174091|             1|\n",
      "|  1806|   7152|              nudity|1176483953|    1172157899| 4326054|             1|\n",
      "|  1806|   7152|                dark|1176483990|    1176483953|      37|             0|\n",
      "|  1806|  44709|        heartwarming|1176485185|    1176483990|    1195|             0|\n",
      "|  1806|  44199|intelligent thriller|1176485297|    1176485185|     112|             0|\n",
      "|  1806|  43936|               tense|1176485376|    1176485297|      79|             0|\n",
      "|  1806|  43928|              stupid|1176485429|    1176485376|      53|             0|\n",
      "|  1806|  42734|              clever|1176485536|    1176485429|     107|             0|\n",
      "|  1806|  40583|       confused plot|1176485722|    1176485536|     186|             0|\n",
      "|  1806|  37475|                slow|1176485915|    1176485722|     193|             0|\n",
      "|  1806|  36527|                slow|1176485965|    1176485915|      50|             0|\n",
      "|  1806|  48043|          weak story|1184762689|    1176485965| 8276724|             1|\n",
      "|  1806|  48043|           dreamlike|1184762699|    1184762689|      10|             0|\n",
      "|  1806|  48043|       disappointing|1184762776|    1184762699|      77|             0|\n",
      "|  1806|  51834|     chick flick 212|1203867534|    1184762776|19104758|             1|\n",
      "|  1806|  55290|Very Strong Language|1204564122|    1203867534|  696588|             1|\n",
      "|  2040|   1377|              action|1189086212|          null|       0|             0|\n",
      "|  2040|   1377|              batman|1189086212|    1189086212|       0|             0|\n",
      "+------+-------+--------------------+----------+--------------+--------+--------------+\n",
      "only showing top 20 rows\n",
      "\n"
     ]
    }
   ],
   "source": [
    "tag_df = tag_df.withColumn(\"threshold_flag\",  F.when(tag_df.diff>(30*3600),1)\n",
    "                           .otherwise(0))\n",
    "tag_df.show()"
   ]
  },
  {
   "cell_type": "code",
   "execution_count": 45,
   "metadata": {},
   "outputs": [
    {
     "name": "stdout",
     "output_type": "stream",
     "text": [
      "+------+-------+--------------------+----------+--------------+--------+--------------+------------+\n",
      "|UserID|MovieID|                 Tag| Timestamp|prev_Timestamp|    diff|threshold_flag|tag_sessions|\n",
      "+------+-------+--------------------+----------+--------------+--------+--------------+------------+\n",
      "|  1806|  43560|              comedy|1147983808|          null|       0|             0|           0|\n",
      "|  1806|  43560|                kids|1147983808|    1147983808|       0|             0|           0|\n",
      "|  1806|   7018|            language|1172157899|    1147983808|24174091|             1|           1|\n",
      "|  1806|   7152|              nudity|1176483953|    1172157899| 4326054|             1|           2|\n",
      "|  1806|   7152|                dark|1176483990|    1176483953|      37|             0|           2|\n",
      "|  1806|  44709|        heartwarming|1176485185|    1176483990|    1195|             0|           2|\n",
      "|  1806|  44199|intelligent thriller|1176485297|    1176485185|     112|             0|           2|\n",
      "|  1806|  43936|               tense|1176485376|    1176485297|      79|             0|           2|\n",
      "|  1806|  43928|              stupid|1176485429|    1176485376|      53|             0|           2|\n",
      "|  1806|  42734|              clever|1176485536|    1176485429|     107|             0|           2|\n",
      "|  1806|  40583|       confused plot|1176485722|    1176485536|     186|             0|           2|\n",
      "|  1806|  37475|                slow|1176485915|    1176485722|     193|             0|           2|\n",
      "|  1806|  36527|                slow|1176485965|    1176485915|      50|             0|           2|\n",
      "|  1806|  48043|          weak story|1184762689|    1176485965| 8276724|             1|           3|\n",
      "|  1806|  48043|           dreamlike|1184762699|    1184762689|      10|             0|           3|\n",
      "|  1806|  48043|       disappointing|1184762776|    1184762699|      77|             0|           3|\n",
      "|  1806|  51834|     chick flick 212|1203867534|    1184762776|19104758|             1|           4|\n",
      "|  1806|  55290|Very Strong Language|1204564122|    1203867534|  696588|             1|           5|\n",
      "|  2040|   1377|              action|1189086212|          null|       0|             0|           0|\n",
      "|  2040|   1377|              batman|1189086212|    1189086212|       0|             0|           0|\n",
      "+------+-------+--------------------+----------+--------------+--------+--------------+------------+\n",
      "only showing top 20 rows\n",
      "\n"
     ]
    }
   ],
   "source": [
    "myPartition=Window.partitionBy(['UserID']).orderBy(tag_df['Timestamp']) \n",
    "temp = tag_df.withColumn('tag_sessions',F.sum('threshold_flag').over(myPartition))\n",
    "temp.show()"
   ]
  },
  {
   "cell_type": "code",
   "execution_count": 46,
   "metadata": {},
   "outputs": [
    {
     "name": "stdout",
     "output_type": "stream",
     "text": [
      "+------+------------+-----+\n",
      "|UserID|tag_sessions|count|\n",
      "+------+------------+-----+\n",
      "|  1806|           0|    2|\n",
      "|  1806|           1|    1|\n",
      "|  1806|           2|   10|\n",
      "|  1806|           3|    3|\n",
      "|  1806|           4|    1|\n",
      "|  1806|           5|    1|\n",
      "|  2040|           0|    2|\n",
      "| 15437|           0|    1|\n",
      "| 15663|           0|    1|\n",
      "| 15846|           0|    9|\n",
      "| 18295|           0|    1|\n",
      "| 18295|           1|    3|\n",
      "| 18730|           0|    1|\n",
      "| 19141|           0|    1|\n",
      "| 25649|           0|    1|\n",
      "| 25649|           1|    1|\n",
      "| 25649|           2|    1|\n",
      "| 25649|           3|    1|\n",
      "| 27919|           0|    1|\n",
      "| 27919|           1|    2|\n",
      "+------+------------+-----+\n",
      "only showing top 20 rows\n",
      "\n"
     ]
    }
   ],
   "source": [
    "temp2 = temp.groupby(temp.UserID, temp.tag_sessions).count()\n",
    "temp2.show()"
   ]
  },
  {
   "cell_type": "code",
   "execution_count": 47,
   "metadata": {},
   "outputs": [
    {
     "name": "stdout",
     "output_type": "stream",
     "text": [
      "+------+------------+-----+\n",
      "|UserID|tag_sessions|count|\n",
      "+------+------------+-----+\n",
      "|  1806|           0|    2|\n",
      "|  1806|           1|    1|\n",
      "|  1806|           2|   10|\n",
      "|  1806|           3|    3|\n",
      "|  1806|           4|    1|\n",
      "|  1806|           5|    1|\n",
      "|  2040|           0|    2|\n",
      "| 15437|           0|    1|\n",
      "| 15663|           0|    1|\n",
      "| 15846|           0|    9|\n",
      "| 18295|           0|    1|\n",
      "| 18295|           1|    3|\n",
      "| 18730|           0|    1|\n",
      "| 19141|           0|    1|\n",
      "| 25649|           0|    1|\n",
      "| 25649|           1|    1|\n",
      "| 25649|           2|    1|\n",
      "| 25649|           3|    1|\n",
      "| 27919|           0|    1|\n",
      "| 27919|           1|    2|\n",
      "+------+------------+-----+\n",
      "only showing top 20 rows\n",
      "\n"
     ]
    }
   ],
   "source": [
    "temp2 = temp.groupby(temp.UserID, temp.tag_sessions).count()\n",
    "temp2.show()"
   ]
  },
  {
   "cell_type": "code",
   "execution_count": 48,
   "metadata": {},
   "outputs": [],
   "source": [
    "# temp3 = temp2.groupBy('UserID').agg({'count': 'mean'})\n",
    "temp3 = temp2.groupBy('UserID').agg(F.avg('count').alias('avg_clicks'))"
   ]
  },
  {
   "cell_type": "code",
   "execution_count": 49,
   "metadata": {},
   "outputs": [
    {
     "name": "stdout",
     "output_type": "stream",
     "text": [
      "+------+----------+\n",
      "|UserID|avg_clicks|\n",
      "+------+----------+\n",
      "|  1806|       3.0|\n",
      "|  2040|       2.0|\n",
      "| 15437|       1.0|\n",
      "| 15663|       1.0|\n",
      "| 15846|       9.0|\n",
      "| 18295|       2.0|\n",
      "| 18730|       1.0|\n",
      "| 19141|       1.0|\n",
      "| 25649|       1.0|\n",
      "| 27919|       1.5|\n",
      "| 29018|       1.0|\n",
      "| 31156|       1.0|\n",
      "| 37098|       1.0|\n",
      "| 39104|       1.0|\n",
      "| 39713|       1.5|\n",
      "| 48280|       2.0|\n",
      "| 50049|       2.0|\n",
      "| 55700|       1.0|\n",
      "| 60016|       1.0|\n",
      "| 60738|       7.0|\n",
      "+------+----------+\n",
      "only showing top 20 rows\n",
      "\n"
     ]
    }
   ],
   "source": [
    "temp3.show()"
   ]
  },
  {
   "cell_type": "code",
   "execution_count": 50,
   "metadata": {},
   "outputs": [
    {
     "data": {
      "text/plain": [
       "[Row(avg(avg_clicks)=6.86615877958277)]"
      ]
     },
     "execution_count": 50,
     "metadata": {},
     "output_type": "execute_result"
    }
   ],
   "source": [
    "temp3.groupBy().agg(F.avg('avg_clicks')).collect()"
   ]
  },
  {
   "cell_type": "code",
   "execution_count": 51,
   "metadata": {},
   "outputs": [
    {
     "data": {
      "text/plain": [
       "[Row(stddev_samp(avg_clicks)=27.304439327892233)]"
      ]
     },
     "execution_count": 51,
     "metadata": {},
     "output_type": "execute_result"
    }
   ],
   "source": [
    "temp3.groupBy().agg(F.stddev('avg_clicks')).collect()"
   ]
  },
  {
   "cell_type": "code",
   "execution_count": 121,
   "metadata": {
    "scrolled": true
   },
   "outputs": [
    {
     "data": {
      "text/plain": [
       "[Row(UserID=2030, avg_clicks=72.0),\n",
       " Row(UserID=20729, avg_clicks=105.75),\n",
       " Row(UserID=2854, avg_clicks=64.5),\n",
       " Row(UserID=68986, avg_clicks=81.0),\n",
       " Row(UserID=61519, avg_clicks=128.0),\n",
       " Row(UserID=57022, avg_clicks=82.0),\n",
       " Row(UserID=29850, avg_clicks=80.0),\n",
       " Row(UserID=11114, avg_clicks=256.0),\n",
       " Row(UserID=15851, avg_clicks=91.0),\n",
       " Row(UserID=17044, avg_clicks=128.0),\n",
       " Row(UserID=34405, avg_clicks=126.0),\n",
       " Row(UserID=63347, avg_clicks=80.66666666666667),\n",
       " Row(UserID=33866, avg_clicks=119.0),\n",
       " Row(UserID=16289, avg_clicks=74.0),\n",
       " Row(UserID=36151, avg_clicks=71.33333333333333),\n",
       " Row(UserID=65436, avg_clicks=170.33333333333334),\n",
       " Row(UserID=29462, avg_clicks=65.0),\n",
       " Row(UserID=9316, avg_clicks=76.05),\n",
       " Row(UserID=58160, avg_clicks=272.0),\n",
       " Row(UserID=23619, avg_clicks=62.0),\n",
       " Row(UserID=12025, avg_clicks=71.0),\n",
       " Row(UserID=15896, avg_clicks=106.0),\n",
       " Row(UserID=49265, avg_clicks=110.0),\n",
       " Row(UserID=32861, avg_clicks=110.0),\n",
       " Row(UserID=24132, avg_clicks=126.0),\n",
       " Row(UserID=38848, avg_clicks=101.0),\n",
       " Row(UserID=30627, avg_clicks=78.0),\n",
       " Row(UserID=13159, avg_clicks=67.0),\n",
       " Row(UserID=31911, avg_clicks=92.0),\n",
       " Row(UserID=69935, avg_clicks=73.0),\n",
       " Row(UserID=48717, avg_clicks=62.0),\n",
       " Row(UserID=19885, avg_clicks=145.66666666666666),\n",
       " Row(UserID=51372, avg_clicks=102.92307692307692),\n",
       " Row(UserID=57786, avg_clicks=277.0),\n",
       " Row(UserID=23647, avg_clicks=149.0),\n",
       " Row(UserID=63604, avg_clicks=96.0909090909091),\n",
       " Row(UserID=17288, avg_clicks=127.5),\n",
       " Row(UserID=622, avg_clicks=68.5),\n",
       " Row(UserID=33235, avg_clicks=147.0),\n",
       " Row(UserID=51954, avg_clicks=97.66666666666667),\n",
       " Row(UserID=8043, avg_clicks=93.0),\n",
       " Row(UserID=17755, avg_clicks=107.0),\n",
       " Row(UserID=56345, avg_clicks=82.5),\n",
       " Row(UserID=64540, avg_clicks=121.0),\n",
       " Row(UserID=21522, avg_clicks=117.0),\n",
       " Row(UserID=34900, avg_clicks=69.0),\n",
       " Row(UserID=55699, avg_clicks=147.0),\n",
       " Row(UserID=25730, avg_clicks=66.0),\n",
       " Row(UserID=70974, avg_clicks=648.5),\n",
       " Row(UserID=52707, avg_clicks=144.0),\n",
       " Row(UserID=16610, avg_clicks=136.0),\n",
       " Row(UserID=23388, avg_clicks=1162.2),\n",
       " Row(UserID=16930, avg_clicks=141.0),\n",
       " Row(UserID=40800, avg_clicks=158.0),\n",
       " Row(UserID=5637, avg_clicks=71.0),\n",
       " Row(UserID=24158, avg_clicks=79.0),\n",
       " Row(UserID=69195, avg_clicks=192.0),\n",
       " Row(UserID=10058, avg_clicks=76.0),\n",
       " Row(UserID=29592, avg_clicks=149.0),\n",
       " Row(UserID=37698, avg_clicks=402.0),\n",
       " Row(UserID=48600, avg_clicks=237.0),\n",
       " Row(UserID=4341, avg_clicks=85.0),\n",
       " Row(UserID=69738, avg_clicks=108.0),\n",
       " Row(UserID=52806, avg_clicks=102.66666666666667),\n",
       " Row(UserID=52723, avg_clicks=62.392857142857146)]"
      ]
     },
     "execution_count": 121,
     "metadata": {},
     "output_type": "execute_result"
    }
   ],
   "source": [
    "temp3.filter(temp3['avg_clicks']>(2*27.3 + 6.87)).collect()"
   ]
  },
  {
   "cell_type": "code",
   "execution_count": null,
   "metadata": {},
   "outputs": [],
   "source": []
  },
  {
   "cell_type": "markdown",
   "metadata": {},
   "source": [
    "### BONUS EXERCISE"
   ]
  },
  {
   "cell_type": "code",
   "execution_count": 136,
   "metadata": {},
   "outputs": [],
   "source": [
    "rat_rdd = (sc\n",
    "           .textFile(\"spark/ratings.dat\")\n",
    "           .map(lambda x: x.split('::'))\n",
    "           .map(lambda x: [x[0], x[1],int(x[2]),int(x[3])])\n",
    "          )\n",
    "           "
   ]
  },
  {
   "cell_type": "code",
   "execution_count": 137,
   "metadata": {},
   "outputs": [
    {
     "data": {
      "text/plain": [
       "[['1', '1193', 5, 978300760],\n",
       " ['1', '661', 3, 978302109],\n",
       " ['1', '914', 3, 978301968],\n",
       " ['1', '3408', 4, 978300275],\n",
       " ['1', '2355', 5, 978824291]]"
      ]
     },
     "execution_count": 137,
     "metadata": {},
     "output_type": "execute_result"
    }
   ],
   "source": [
    "rat_rdd.take(5)"
   ]
  },
  {
   "cell_type": "code",
   "execution_count": 138,
   "metadata": {},
   "outputs": [],
   "source": [
    "# sc = SparkContext(appName=\"PrevRowDiffApp\")\n",
    "sqlc = SQLContext(sc)\n",
    "rat_df = sqlc.createDataFrame(rat_rdd, [\"UserID\",\"MovieID\",\"Rating\",\"Timestamp\"])"
   ]
  },
  {
   "cell_type": "code",
   "execution_count": 139,
   "metadata": {},
   "outputs": [],
   "source": [
    "mov_rdd = (sc\n",
    "           .textFile(\"spark/movies.dat\")\n",
    "           .map(lambda x: x.split('::'))\n",
    "           .map(lambda x: [x[0], x[1],x[2]])\n",
    "          )"
   ]
  },
  {
   "cell_type": "code",
   "execution_count": 140,
   "metadata": {},
   "outputs": [
    {
     "data": {
      "text/plain": [
       "[['1', 'Toy Story (1995)', \"Animation|Children's|Comedy\"],\n",
       " ['2', 'Jumanji (1995)', \"Adventure|Children's|Fantasy\"],\n",
       " ['3', 'Grumpier Old Men (1995)', 'Comedy|Romance'],\n",
       " ['4', 'Waiting to Exhale (1995)', 'Comedy|Drama'],\n",
       " ['5', 'Father of the Bride Part II (1995)', 'Comedy']]"
      ]
     },
     "execution_count": 140,
     "metadata": {},
     "output_type": "execute_result"
    }
   ],
   "source": [
    "mov_rdd.take(5)"
   ]
  },
  {
   "cell_type": "code",
   "execution_count": 141,
   "metadata": {},
   "outputs": [],
   "source": [
    "#MovieID::Title::Genres\n",
    "sqlc = SQLContext(sc)\n",
    "mov_df = sqlc.createDataFrame(mov_rdd, [\"MovieID\",\"Title\",\"Genres\"])\n"
   ]
  },
  {
   "cell_type": "code",
   "execution_count": 185,
   "metadata": {},
   "outputs": [],
   "source": [
    "data_mov = rat_df.join(mov_df, \"MovieId\")"
   ]
  },
  {
   "cell_type": "code",
   "execution_count": 144,
   "metadata": {},
   "outputs": [
    {
     "name": "stdout",
     "output_type": "stream",
     "text": [
      "+-------+------+------+---------+--------------+---------+\n",
      "|MovieID|UserID|Rating|Timestamp|         Title|   Genres|\n",
      "+-------+------+------+---------+--------------+---------+\n",
      "|   1090|     2|     2|978298580|Platoon (1986)|Drama|War|\n",
      "|   1090|    19|     3|978300207|Platoon (1986)|Drama|War|\n",
      "|   1090|    23|     3|993706407|Platoon (1986)|Drama|War|\n",
      "+-------+------+------+---------+--------------+---------+\n",
      "only showing top 3 rows\n",
      "\n"
     ]
    }
   ],
   "source": [
    "data_mov.show(3)"
   ]
  },
  {
   "cell_type": "code",
   "execution_count": 145,
   "metadata": {},
   "outputs": [
    {
     "data": {
      "text/plain": [
       "DataFrame[MovieID: string, UserID: string, Rating: bigint, Timestamp: bigint, Title: string, Genres: string]"
      ]
     },
     "execution_count": 145,
     "metadata": {},
     "output_type": "execute_result"
    }
   ],
   "source": [
    "data_mov"
   ]
  },
  {
   "cell_type": "code",
   "execution_count": 146,
   "metadata": {},
   "outputs": [],
   "source": [
    "data = data_mov.rdd"
   ]
  },
  {
   "cell_type": "code",
   "execution_count": 147,
   "metadata": {},
   "outputs": [
    {
     "data": {
      "text/plain": [
       "[Row(MovieID='1090', UserID='2', Rating=2, Timestamp=978298580, Title='Platoon (1986)', Genres='Drama|War'),\n",
       " Row(MovieID='1090', UserID='19', Rating=3, Timestamp=978300207, Title='Platoon (1986)', Genres='Drama|War'),\n",
       " Row(MovieID='1090', UserID='23', Rating=3, Timestamp=993706407, Title='Platoon (1986)', Genres='Drama|War'),\n",
       " Row(MovieID='1090', UserID='24', Rating=4, Timestamp=978132818, Title='Platoon (1986)', Genres='Drama|War'),\n",
       " Row(MovieID='1090', UserID='26', Rating=3, Timestamp=978146594, Title='Platoon (1986)', Genres='Drama|War')]"
      ]
     },
     "execution_count": 147,
     "metadata": {},
     "output_type": "execute_result"
    }
   ],
   "source": [
    "data.take(5)"
   ]
  },
  {
   "cell_type": "code",
   "execution_count": 176,
   "metadata": {},
   "outputs": [
    {
     "data": {
      "text/plain": [
       "Row(MovieID='1090', UserID='2', Rating=2, Timestamp=978298580, Title='Platoon (1986)', Genres='Drama|War')"
      ]
     },
     "execution_count": 176,
     "metadata": {},
     "output_type": "execute_result"
    }
   ],
   "source": [
    "data.first()"
   ]
  },
  {
   "cell_type": "code",
   "execution_count": 67,
   "metadata": {},
   "outputs": [
    {
     "data": {
      "text/plain": [
       "'1::1193::5::978300760'"
      ]
     },
     "execution_count": 67,
     "metadata": {},
     "output_type": "execute_result"
    }
   ],
   "source": [
    "## UserID::MovieID::Rating::Timestamp\n",
    "textFile = sc.textFile(\"spark/ratings.dat\")\n",
    "textFile.first()"
   ]
  },
  {
   "cell_type": "markdown",
   "metadata": {},
   "source": [
    "####  Find the movie title with highest number of average ratings"
   ]
  },
  {
   "cell_type": "code",
   "execution_count": 193,
   "metadata": {},
   "outputs": [
    {
     "data": {
      "text/plain": [
       "[('787', 5.0), ('1830', 5.0), ('3607', 5.0), ('3280', 5.0), ('989', 5.0)]"
      ]
     },
     "execution_count": 193,
     "metadata": {},
     "output_type": "execute_result"
    }
   ],
   "source": [
    "(textFile\n",
    " .map(lambda x: x.split('::'))\n",
    " .map(lambda x: (x[1],x[2]))\n",
    " .combineByKey( lambda a: (1.0, float(a[0])),\n",
    "               lambda a, b: (a[0]+1,a[1] + float(b[0])),\n",
    "               lambda rdd1, rdd2: (rdd1[0]+rdd2[0], rdd1[1]+rdd2[1])\n",
    "              )\n",
    " .map(lambda x: (x[0], x[1][1]/x[1][0]))\n",
    " .sortBy(lambda x: x[1]*-1)\n",
    " .take(5)\n",
    ")"
   ]
  },
  {
   "cell_type": "code",
   "execution_count": 212,
   "metadata": {},
   "outputs": [
    {
     "name": "stdout",
     "output_type": "stream",
     "text": [
      "+-------+------+------+---------+--------------------+-----------+\n",
      "|MovieID|UserID|Rating|Timestamp|               Title|     Genres|\n",
      "+-------+------+------+---------+--------------------+-----------+\n",
      "|    787|   149|     5|977325719|Gate of Heavenly ...|Documentary|\n",
      "|    787|  2825|     5|972610193|Gate of Heavenly ...|Documentary|\n",
      "|    787|  2872|     5|972423586|Gate of Heavenly ...|Documentary|\n",
      "+-------+------+------+---------+--------------------+-----------+\n",
      "\n"
     ]
    }
   ],
   "source": [
    "data_mov.filter(data_mov.MovieID == '787').show()"
   ]
  },
  {
   "cell_type": "markdown",
   "metadata": {},
   "source": [
    "#### The title of the movie is Gate of Heavenly"
   ]
  },
  {
   "cell_type": "code",
   "execution_count": null,
   "metadata": {},
   "outputs": [],
   "source": []
  },
  {
   "cell_type": "code",
   "execution_count": null,
   "metadata": {},
   "outputs": [],
   "source": []
  },
  {
   "cell_type": "markdown",
   "metadata": {},
   "source": [
    "####  Find the user who has assign lowest average rating among all the users who rated more than 40 times"
   ]
  },
  {
   "cell_type": "code",
   "execution_count": 210,
   "metadata": {},
   "outputs": [
    {
     "data": {
      "text/plain": [
       "[('3598', 1.0153846153846153),\n",
       " ('4486', 1.0588235294117647),\n",
       " ('2744', 1.3043478260869565),\n",
       " ('4539', 1.815126050420168),\n",
       " ('5850', 1.8448275862068966)]"
      ]
     },
     "execution_count": 210,
     "metadata": {},
     "output_type": "execute_result"
    }
   ],
   "source": [
    "(textFile\n",
    " .map(lambda x: x.split('::'))\n",
    " .map(lambda x: (x[0],x[2]))\n",
    " .combineByKey( lambda a: (1.0, float(a[0])),\n",
    "               lambda a, b: (a[0]+1,a[1] + float(b[0])),\n",
    "               lambda rdd1, rdd2: (rdd1[0]+rdd2[0], rdd1[1]+rdd2[1])\n",
    "              )\n",
    " .filter(lambda x: x[1][0]>40)\n",
    " .map(lambda x: (x[0], x[1][1]/x[1][0]))\n",
    " .sortBy(lambda x: x[1]*1)\n",
    " .take(5)\n",
    ")"
   ]
  },
  {
   "cell_type": "code",
   "execution_count": null,
   "metadata": {},
   "outputs": [],
   "source": []
  }
 ],
 "metadata": {
  "kernelspec": {
   "display_name": "Python 3",
   "language": "python",
   "name": "python3"
  },
  "language_info": {
   "codemirror_mode": {
    "name": "ipython",
    "version": 3
   },
   "file_extension": ".py",
   "mimetype": "text/x-python",
   "name": "python",
   "nbconvert_exporter": "python",
   "pygments_lexer": "ipython3",
   "version": "3.6.5"
  }
 },
 "nbformat": 4,
 "nbformat_minor": 2
}
